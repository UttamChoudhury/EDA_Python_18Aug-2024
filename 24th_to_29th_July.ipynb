{
 "cells": [
  {
   "cell_type": "code",
   "execution_count": 1,
   "id": "8fa5816f-e612-47d0-8e43-e95926a04a21",
   "metadata": {},
   "outputs": [],
   "source": [
    "import pandas as pd"
   ]
  },
  {
   "cell_type": "code",
   "execution_count": 7,
   "id": "842e5d94-9d6d-4548-b07d-c45961193efa",
   "metadata": {},
   "outputs": [
    {
     "data": {
      "text/html": [
       "<div>\n",
       "<style scoped>\n",
       "    .dataframe tbody tr th:only-of-type {\n",
       "        vertical-align: middle;\n",
       "    }\n",
       "\n",
       "    .dataframe tbody tr th {\n",
       "        vertical-align: top;\n",
       "    }\n",
       "\n",
       "    .dataframe thead th {\n",
       "        text-align: right;\n",
       "    }\n",
       "</style>\n",
       "<table border=\"1\" class=\"dataframe\">\n",
       "  <thead>\n",
       "    <tr style=\"text-align: right;\">\n",
       "      <th></th>\n",
       "      <th>case_id</th>\n",
       "      <th>continent</th>\n",
       "      <th>education_of_employee</th>\n",
       "      <th>has_job_experience</th>\n",
       "      <th>requires_job_training</th>\n",
       "      <th>no_of_employees</th>\n",
       "      <th>yr_of_estab</th>\n",
       "      <th>region_of_employment</th>\n",
       "      <th>prevailing_wage</th>\n",
       "      <th>unit_of_wage</th>\n",
       "      <th>full_time_position</th>\n",
       "      <th>case_status</th>\n",
       "    </tr>\n",
       "  </thead>\n",
       "  <tbody>\n",
       "    <tr>\n",
       "      <th>0</th>\n",
       "      <td>EZYV01</td>\n",
       "      <td>Asia</td>\n",
       "      <td>High School</td>\n",
       "      <td>N</td>\n",
       "      <td>N</td>\n",
       "      <td>14513</td>\n",
       "      <td>2007</td>\n",
       "      <td>West</td>\n",
       "      <td>592.2029</td>\n",
       "      <td>Hour</td>\n",
       "      <td>Y</td>\n",
       "      <td>Denied</td>\n",
       "    </tr>\n",
       "    <tr>\n",
       "      <th>1</th>\n",
       "      <td>EZYV02</td>\n",
       "      <td>Asia</td>\n",
       "      <td>Master's</td>\n",
       "      <td>Y</td>\n",
       "      <td>N</td>\n",
       "      <td>2412</td>\n",
       "      <td>2002</td>\n",
       "      <td>Northeast</td>\n",
       "      <td>83425.6500</td>\n",
       "      <td>Year</td>\n",
       "      <td>Y</td>\n",
       "      <td>Certified</td>\n",
       "    </tr>\n",
       "    <tr>\n",
       "      <th>2</th>\n",
       "      <td>EZYV03</td>\n",
       "      <td>Asia</td>\n",
       "      <td>Bachelor's</td>\n",
       "      <td>N</td>\n",
       "      <td>Y</td>\n",
       "      <td>44444</td>\n",
       "      <td>2008</td>\n",
       "      <td>West</td>\n",
       "      <td>122996.8600</td>\n",
       "      <td>Year</td>\n",
       "      <td>Y</td>\n",
       "      <td>Denied</td>\n",
       "    </tr>\n",
       "    <tr>\n",
       "      <th>3</th>\n",
       "      <td>EZYV04</td>\n",
       "      <td>Asia</td>\n",
       "      <td>Bachelor's</td>\n",
       "      <td>N</td>\n",
       "      <td>N</td>\n",
       "      <td>98</td>\n",
       "      <td>1897</td>\n",
       "      <td>West</td>\n",
       "      <td>83434.0300</td>\n",
       "      <td>Year</td>\n",
       "      <td>Y</td>\n",
       "      <td>Denied</td>\n",
       "    </tr>\n",
       "    <tr>\n",
       "      <th>4</th>\n",
       "      <td>EZYV05</td>\n",
       "      <td>Africa</td>\n",
       "      <td>Master's</td>\n",
       "      <td>Y</td>\n",
       "      <td>N</td>\n",
       "      <td>1082</td>\n",
       "      <td>2005</td>\n",
       "      <td>South</td>\n",
       "      <td>149907.3900</td>\n",
       "      <td>Year</td>\n",
       "      <td>Y</td>\n",
       "      <td>Certified</td>\n",
       "    </tr>\n",
       "    <tr>\n",
       "      <th>...</th>\n",
       "      <td>...</td>\n",
       "      <td>...</td>\n",
       "      <td>...</td>\n",
       "      <td>...</td>\n",
       "      <td>...</td>\n",
       "      <td>...</td>\n",
       "      <td>...</td>\n",
       "      <td>...</td>\n",
       "      <td>...</td>\n",
       "      <td>...</td>\n",
       "      <td>...</td>\n",
       "      <td>...</td>\n",
       "    </tr>\n",
       "    <tr>\n",
       "      <th>25475</th>\n",
       "      <td>EZYV25476</td>\n",
       "      <td>Asia</td>\n",
       "      <td>Bachelor's</td>\n",
       "      <td>Y</td>\n",
       "      <td>Y</td>\n",
       "      <td>2601</td>\n",
       "      <td>2008</td>\n",
       "      <td>South</td>\n",
       "      <td>77092.5700</td>\n",
       "      <td>Year</td>\n",
       "      <td>Y</td>\n",
       "      <td>Certified</td>\n",
       "    </tr>\n",
       "    <tr>\n",
       "      <th>25476</th>\n",
       "      <td>EZYV25477</td>\n",
       "      <td>Asia</td>\n",
       "      <td>High School</td>\n",
       "      <td>Y</td>\n",
       "      <td>N</td>\n",
       "      <td>3274</td>\n",
       "      <td>2006</td>\n",
       "      <td>Northeast</td>\n",
       "      <td>279174.7900</td>\n",
       "      <td>Year</td>\n",
       "      <td>Y</td>\n",
       "      <td>Certified</td>\n",
       "    </tr>\n",
       "    <tr>\n",
       "      <th>25477</th>\n",
       "      <td>EZYV25478</td>\n",
       "      <td>Asia</td>\n",
       "      <td>Master's</td>\n",
       "      <td>Y</td>\n",
       "      <td>N</td>\n",
       "      <td>1121</td>\n",
       "      <td>1910</td>\n",
       "      <td>South</td>\n",
       "      <td>146298.8500</td>\n",
       "      <td>Year</td>\n",
       "      <td>N</td>\n",
       "      <td>Certified</td>\n",
       "    </tr>\n",
       "    <tr>\n",
       "      <th>25478</th>\n",
       "      <td>EZYV25479</td>\n",
       "      <td>Asia</td>\n",
       "      <td>Master's</td>\n",
       "      <td>Y</td>\n",
       "      <td>Y</td>\n",
       "      <td>1918</td>\n",
       "      <td>1887</td>\n",
       "      <td>West</td>\n",
       "      <td>86154.7700</td>\n",
       "      <td>Year</td>\n",
       "      <td>Y</td>\n",
       "      <td>Certified</td>\n",
       "    </tr>\n",
       "    <tr>\n",
       "      <th>25479</th>\n",
       "      <td>EZYV25480</td>\n",
       "      <td>Asia</td>\n",
       "      <td>Bachelor's</td>\n",
       "      <td>Y</td>\n",
       "      <td>N</td>\n",
       "      <td>3195</td>\n",
       "      <td>1960</td>\n",
       "      <td>Midwest</td>\n",
       "      <td>70876.9100</td>\n",
       "      <td>Year</td>\n",
       "      <td>Y</td>\n",
       "      <td>Certified</td>\n",
       "    </tr>\n",
       "  </tbody>\n",
       "</table>\n",
       "<p>25480 rows × 12 columns</p>\n",
       "</div>"
      ],
      "text/plain": [
       "         case_id continent education_of_employee has_job_experience  \\\n",
       "0         EZYV01      Asia           High School                  N   \n",
       "1         EZYV02      Asia              Master's                  Y   \n",
       "2         EZYV03      Asia            Bachelor's                  N   \n",
       "3         EZYV04      Asia            Bachelor's                  N   \n",
       "4         EZYV05    Africa              Master's                  Y   \n",
       "...          ...       ...                   ...                ...   \n",
       "25475  EZYV25476      Asia            Bachelor's                  Y   \n",
       "25476  EZYV25477      Asia           High School                  Y   \n",
       "25477  EZYV25478      Asia              Master's                  Y   \n",
       "25478  EZYV25479      Asia              Master's                  Y   \n",
       "25479  EZYV25480      Asia            Bachelor's                  Y   \n",
       "\n",
       "      requires_job_training  no_of_employees  yr_of_estab  \\\n",
       "0                         N            14513         2007   \n",
       "1                         N             2412         2002   \n",
       "2                         Y            44444         2008   \n",
       "3                         N               98         1897   \n",
       "4                         N             1082         2005   \n",
       "...                     ...              ...          ...   \n",
       "25475                     Y             2601         2008   \n",
       "25476                     N             3274         2006   \n",
       "25477                     N             1121         1910   \n",
       "25478                     Y             1918         1887   \n",
       "25479                     N             3195         1960   \n",
       "\n",
       "      region_of_employment  prevailing_wage unit_of_wage full_time_position  \\\n",
       "0                     West         592.2029         Hour                  Y   \n",
       "1                Northeast       83425.6500         Year                  Y   \n",
       "2                     West      122996.8600         Year                  Y   \n",
       "3                     West       83434.0300         Year                  Y   \n",
       "4                    South      149907.3900         Year                  Y   \n",
       "...                    ...              ...          ...                ...   \n",
       "25475                South       77092.5700         Year                  Y   \n",
       "25476            Northeast      279174.7900         Year                  Y   \n",
       "25477                South      146298.8500         Year                  N   \n",
       "25478                 West       86154.7700         Year                  Y   \n",
       "25479              Midwest       70876.9100         Year                  Y   \n",
       "\n",
       "      case_status  \n",
       "0          Denied  \n",
       "1       Certified  \n",
       "2          Denied  \n",
       "3          Denied  \n",
       "4       Certified  \n",
       "...           ...  \n",
       "25475   Certified  \n",
       "25476   Certified  \n",
       "25477   Certified  \n",
       "25478   Certified  \n",
       "25479   Certified  \n",
       "\n",
       "[25480 rows x 12 columns]"
      ]
     },
     "execution_count": 7,
     "metadata": {},
     "output_type": "execute_result"
    }
   ],
   "source": [
    "r\"C:\\Users\\Uddhava\\Downloads\\Visadataset\\Visadataset.csv\"\n",
    "pd.read_csv(r\"C:\\Users\\Uddhava\\Downloads\\Visadataset\\Visadataset.csv\")"
   ]
  },
  {
   "cell_type": "code",
   "execution_count": 3,
   "id": "3bb2d727-ed6d-406f-95ee-bc9e2d6f21f3",
   "metadata": {},
   "outputs": [
    {
     "data": {
      "text/html": [
       "<div>\n",
       "<style scoped>\n",
       "    .dataframe tbody tr th:only-of-type {\n",
       "        vertical-align: middle;\n",
       "    }\n",
       "\n",
       "    .dataframe tbody tr th {\n",
       "        vertical-align: top;\n",
       "    }\n",
       "\n",
       "    .dataframe thead th {\n",
       "        text-align: right;\n",
       "    }\n",
       "</style>\n",
       "<table border=\"1\" class=\"dataframe\">\n",
       "  <thead>\n",
       "    <tr style=\"text-align: right;\">\n",
       "      <th></th>\n",
       "      <th>case_id,continent,education_of_employee,has_job_experience,requires_job_training,no_of_employees,yr_of_estab,region_of_employment,prevailing_wage,unit_of_wage,full_time_position,case_status</th>\n",
       "    </tr>\n",
       "  </thead>\n",
       "  <tbody>\n",
       "    <tr>\n",
       "      <th>0</th>\n",
       "      <td>EZYV01,Asia,High School,N,N,14513,2007,West,59...</td>\n",
       "    </tr>\n",
       "    <tr>\n",
       "      <th>1</th>\n",
       "      <td>EZYV02,Asia,Master's,Y,N,2412,2002,Northeast,8...</td>\n",
       "    </tr>\n",
       "    <tr>\n",
       "      <th>2</th>\n",
       "      <td>EZYV03,Asia,Bachelor's,N,Y,44444,2008,West,122...</td>\n",
       "    </tr>\n",
       "    <tr>\n",
       "      <th>3</th>\n",
       "      <td>EZYV04,Asia,Bachelor's,N,N,98,1897,West,83434....</td>\n",
       "    </tr>\n",
       "    <tr>\n",
       "      <th>4</th>\n",
       "      <td>EZYV05,Africa,Master's,Y,N,1082,2005,South,149...</td>\n",
       "    </tr>\n",
       "    <tr>\n",
       "      <th>...</th>\n",
       "      <td>...</td>\n",
       "    </tr>\n",
       "    <tr>\n",
       "      <th>25475</th>\n",
       "      <td>EZYV25476,Asia,Bachelor's,Y,Y,2601,2008,South,...</td>\n",
       "    </tr>\n",
       "    <tr>\n",
       "      <th>25476</th>\n",
       "      <td>EZYV25477,Asia,High School,Y,N,3274,2006,North...</td>\n",
       "    </tr>\n",
       "    <tr>\n",
       "      <th>25477</th>\n",
       "      <td>EZYV25478,Asia,Master's,Y,N,1121,1910,South,14...</td>\n",
       "    </tr>\n",
       "    <tr>\n",
       "      <th>25478</th>\n",
       "      <td>EZYV25479,Asia,Master's,Y,Y,1918,1887,West,861...</td>\n",
       "    </tr>\n",
       "    <tr>\n",
       "      <th>25479</th>\n",
       "      <td>EZYV25480,Asia,Bachelor's,Y,N,3195,1960,Midwes...</td>\n",
       "    </tr>\n",
       "  </tbody>\n",
       "</table>\n",
       "<p>25480 rows × 1 columns</p>\n",
       "</div>"
      ],
      "text/plain": [
       "      case_id,continent,education_of_employee,has_job_experience,requires_job_training,no_of_employees,yr_of_estab,region_of_employment,prevailing_wage,unit_of_wage,full_time_position,case_status\n",
       "0      EZYV01,Asia,High School,N,N,14513,2007,West,59...                                                                                                                                           \n",
       "1      EZYV02,Asia,Master's,Y,N,2412,2002,Northeast,8...                                                                                                                                           \n",
       "2      EZYV03,Asia,Bachelor's,N,Y,44444,2008,West,122...                                                                                                                                           \n",
       "3      EZYV04,Asia,Bachelor's,N,N,98,1897,West,83434....                                                                                                                                           \n",
       "4      EZYV05,Africa,Master's,Y,N,1082,2005,South,149...                                                                                                                                           \n",
       "...                                                  ...                                                                                                                                           \n",
       "25475  EZYV25476,Asia,Bachelor's,Y,Y,2601,2008,South,...                                                                                                                                           \n",
       "25476  EZYV25477,Asia,High School,Y,N,3274,2006,North...                                                                                                                                           \n",
       "25477  EZYV25478,Asia,Master's,Y,N,1121,1910,South,14...                                                                                                                                           \n",
       "25478  EZYV25479,Asia,Master's,Y,Y,1918,1887,West,861...                                                                                                                                           \n",
       "25479  EZYV25480,Asia,Bachelor's,Y,N,3195,1960,Midwes...                                                                                                                                           \n",
       "\n",
       "[25480 rows x 1 columns]"
      ]
     },
     "execution_count": 3,
     "metadata": {},
     "output_type": "execute_result"
    }
   ],
   "source": [
    "path=r\"C:\\Users\\Uddhava\\Downloads\\Visadataset\\Visadataset.csv\"\n",
    "pd.read_csv(r\"C:\\Users\\Uddhava\\Downloads\\Visadataset\\Visadataset.csv\",sep=(';'))"
   ]
  },
  {
   "cell_type": "raw",
   "id": "893ad414-f827-4776-a75f-a7416ae61bca",
   "metadata": {},
   "source": [
    "for i,j in dict(data_type).items():\n",
    "print(i,j)"
   ]
  },
  {
   "cell_type": "code",
   "execution_count": null,
   "id": "e66e3708-ce5e-4944-86d8-638f6e993398",
   "metadata": {},
   "outputs": [],
   "source": []
  },
  {
   "cell_type": "code",
   "execution_count": 4,
   "id": "87ee4167-bd87-49a6-ac1d-75828a19300d",
   "metadata": {},
   "outputs": [
    {
     "ename": "NameError",
     "evalue": "name 'visa_df' is not defined",
     "output_type": "error",
     "traceback": [
      "\u001b[1;31m---------------------------------------------------------------------------\u001b[0m",
      "\u001b[1;31mNameError\u001b[0m                                 Traceback (most recent call last)",
      "Cell \u001b[1;32mIn[4], line 1\u001b[0m\n\u001b[1;32m----> 1\u001b[0m data_types\u001b[38;5;241m=\u001b[39mvisa_df\u001b[38;5;241m.\u001b[39mdtypes\n\u001b[0;32m      2\u001b[0m \u001b[38;5;28mdict\u001b[39m(data_types)\n",
      "\u001b[1;31mNameError\u001b[0m: name 'visa_df' is not defined"
     ]
    }
   ],
   "source": [
    "data_types=visa_df.dtypes\n",
    "dict(data_types)"
   ]
  },
  {
   "cell_type": "code",
   "execution_count": 8,
   "id": "e73a25ef-49c5-4106-8553-3bf3ae92c057",
   "metadata": {},
   "outputs": [
    {
     "ename": "AttributeError",
     "evalue": "module 'pandas' has no attribute 'dataFrame'",
     "output_type": "error",
     "traceback": [
      "\u001b[1;31m---------------------------------------------------------------------------\u001b[0m",
      "\u001b[1;31mAttributeError\u001b[0m                            Traceback (most recent call last)",
      "Cell \u001b[1;32mIn[8], line 1\u001b[0m\n\u001b[1;32m----> 1\u001b[0m df\u001b[38;5;241m=\u001b[39mpd\u001b[38;5;241m.\u001b[39mdataFrame\n\u001b[0;32m      2\u001b[0m df\n",
      "\u001b[1;31mAttributeError\u001b[0m: module 'pandas' has no attribute 'dataFrame'"
     ]
    }
   ],
   "source": [
    "df=pd.dataFrame\n",
    "df"
   ]
  },
  {
   "cell_type": "code",
   "execution_count": 9,
   "id": "450c133b-e679-417f-af13-a1e8f5b0f255",
   "metadata": {},
   "outputs": [
    {
     "ename": "NameError",
     "evalue": "name 'df' is not defined",
     "output_type": "error",
     "traceback": [
      "\u001b[1;31m---------------------------------------------------------------------------\u001b[0m",
      "\u001b[1;31mNameError\u001b[0m                                 Traceback (most recent call last)",
      "Cell \u001b[1;32mIn[9], line 1\u001b[0m\n\u001b[1;32m----> 1\u001b[0m df\u001b[38;5;241m.\u001b[39mto_csv(\u001b[38;5;124m'\u001b[39m\u001b[38;5;124mData1.csv\u001b[39m\u001b[38;5;124m'\u001b[39m,index\u001b[38;5;241m=\u001b[39m\u001b[38;5;28;01mFalse\u001b[39;00m)\n\u001b[0;32m      2\u001b[0m df\u001b[38;5;241m.\u001b[39mto_excel(\u001b[38;5;124m'\u001b[39m\u001b[38;5;124mData1.xlsx\u001b[39m\u001b[38;5;124m'\u001b[39m,index\u001b[38;5;241m=\u001b[39m\u001b[38;5;28;01mFalse\u001b[39;00m)\n",
      "\u001b[1;31mNameError\u001b[0m: name 'df' is not defined"
     ]
    }
   ],
   "source": [
    "df.to_csv('Data1.csv',index=False)\n",
    "df.to_excel('Data1.xlsx',index=False)"
   ]
  },
  {
   "cell_type": "code",
   "execution_count": null,
   "id": "22092d8d-ad1d-4ff5-8bf7-d0c889f4f9c2",
   "metadata": {},
   "outputs": [],
   "source": [
    "visa_df.dtypes"
   ]
  },
  {
   "cell_type": "code",
   "execution_count": null,
   "id": "9bc5849b-97e4-4d5a-8c6e-06128239866b",
   "metadata": {},
   "outputs": [],
   "source": [
    "cat_list=[]\n",
    "num_list[]\n",
    "for i,j in dict(data_types).items():\n",
    "    if j=='object':\n",
    "        cat_list.appemd(i)\n",
    "    else:\n",
    "        num_list.append(i)\n",
    "        "
   ]
  },
  {
   "cell_type": "code",
   "execution_count": null,
   "id": "72f589b3-31ae-4c45-a6af-22ffd0f7d1ea",
   "metadata": {},
   "outputs": [],
   "source": [
    "for i,j in dict(data_types).items():\n",
    "    print(i,j)"
   ]
  },
  {
   "cell_type": "code",
   "execution_count": null,
   "id": "daab4ff1-9218-41c5-ab77-41613bff4b84",
   "metadata": {},
   "outputs": [],
   "source": [
    "visa_df.dtypes  "
   ]
  },
  {
   "cell_type": "code",
   "execution_count": null,
   "id": "8f2cee78-ae61-41f8-80ed-aea87e872440",
   "metadata": {},
   "outputs": [],
   "source": [
    "data_types=visa_df.dtypes\n",
    "dict(data_types)"
   ]
  },
  {
   "cell_type": "code",
   "execution_count": null,
   "id": "f0cf81eb-395b-40c1-9127-c7cd5bfd790c",
   "metadata": {},
   "outputs": [],
   "source": [
    "r\"C:\\Users\\Uddhava\\Downloads\\Visadataset\\Visadataset.csv\"\n",
    "pd.read_csv(r\"C:\\Users\\Uddhava\\Downloads\\Visadataset\\Visadataset.csv\")"
   ]
  },
  {
   "cell_type": "code",
   "execution_count": null,
   "id": "b82faa09-88c4-4f62-936a-1b64948d46a2",
   "metadata": {},
   "outputs": [],
   "source": [
    "path=r\"C:\\Users\\Uddhava\\Downloads\\Visadataset\\Visadataset.csv\"\n",
    "visa_df=pd.read_csv(r\"C:\\Users\\Uddhava\\Downloads\\Visadataset\\Visadataset.csv\")\n",
    "visa_df"
   ]
  },
  {
   "cell_type": "code",
   "execution_count": null,
   "id": "d7183f74-5d87-4ee4-a3c0-d927c6491226",
   "metadata": {},
   "outputs": [],
   "source": []
  },
  {
   "cell_type": "code",
   "execution_count": null,
   "id": "9508e598-d11b-472a-9bbb-a8cd4457a41a",
   "metadata": {},
   "outputs": [],
   "source": [
    "import pandas as pd\n",
    "df=pd.DataFrame()\n",
    "df\n"
   ]
  },
  {
   "cell_type": "code",
   "execution_count": null,
   "id": "dbc73d80-dcc2-422c-bc32-5e05084cc89c",
   "metadata": {},
   "outputs": [],
   "source": [
    "d=pd.DataFrame()\n",
    "d\n",
    "type(d)"
   ]
  },
  {
   "cell_type": "code",
   "execution_count": null,
   "id": "368cfdb5-a438-4e10-80a3-cad876083d36",
   "metadata": {},
   "outputs": [],
   "source": [
    "data_types=visa_df.dtypes\n",
    "dict(data_types)"
   ]
  },
  {
   "cell_type": "code",
   "execution_count": null,
   "id": "52144622-4712-4f76-97a9-a055dbc5d6e4",
   "metadata": {},
   "outputs": [],
   "source": [
    "path=r\"C:\\Users\\Uddhava\\Downloads\\Visadataset\\Visadataset.csv\"\n",
    "visa_df=pd.read_csv(path)\n",
    "visa_df"
   ]
  },
  {
   "cell_type": "code",
   "execution_count": null,
   "id": "64ba405b-7fd1-4a9d-98fb-c56667d61e55",
   "metadata": {},
   "outputs": [],
   "source": [
    "df.to_csv('Data1.csv',index=False)\n",
    "df.to_excel('Data1.xlsx',index=False)"
   ]
  },
  {
   "cell_type": "code",
   "execution_count": null,
   "id": "3615f624-35db-469c-9346-5f20050d6dda",
   "metadata": {},
   "outputs": [],
   "source": [
    "data_types=visa_df.dtypes\n",
    "dict(data_types)"
   ]
  },
  {
   "cell_type": "code",
   "execution_count": null,
   "id": "a197d928-8878-45cf-bd85-e71f23b165ef",
   "metadata": {},
   "outputs": [],
   "source": [
    "data_types=visa_df.dtypes\n",
    "dict(data_types)"
   ]
  },
  {
   "cell_type": "code",
   "execution_count": null,
   "id": "af41a339-feec-4b59-952b-d76240ce8e79",
   "metadata": {},
   "outputs": [],
   "source": [
    "cat_list=[]\n",
    "num_list=[]\n",
    "for i,j in dict(data_type).items():\n",
    "    if j=='object':\n",
    "        cat_list.append(i)\n",
    "    else:\n",
    "        num_list.append(i)"
   ]
  },
  {
   "cell_type": "code",
   "execution_count": null,
   "id": "4164e4fa-4da5-4b64-868a-a61cc710e58c",
   "metadata": {},
   "outputs": [],
   "source": [
    "import pandas as pd"
   ]
  },
  {
   "cell_type": "code",
   "execution_count": null,
   "id": "8402cbe3-855b-4f9a-9372-faedf45184f5",
   "metadata": {},
   "outputs": [],
   "source": [
    "pd.DataFrame(num_list,columns=['Categorical_column'])\n"
   ]
  },
  {
   "cell_type": "code",
   "execution_count": null,
   "id": "aca7c670-6b14-4a0e-bb37-da139ebd957e",
   "metadata": {},
   "outputs": [],
   "source": [
    "pd.DataFrame(num_list,columns=['0,1,2'])\n"
   ]
  },
  {
   "cell_type": "code",
   "execution_count": null,
   "id": "64c434f9-b74c-43c4-a55b-d30a4ab53b16",
   "metadata": {},
   "outputs": [],
   "source": [
    "import pandas as pd"
   ]
  },
  {
   "cell_type": "code",
   "execution_count": null,
   "id": "0e66a751-9ad0-4d0a-b7ba-950c9555f002",
   "metadata": {},
   "outputs": [],
   "source": [
    "num_df=pd.DataFrame(num_list,columns=['Numerical_column'])\n",
    "num_df.to_csv('Numerical_column_df.csv',index=False)"
   ]
  },
  {
   "cell_type": "code",
   "execution_count": null,
   "id": "daaeb31d-0d02-4314-95b0-e3af04f0fd67",
   "metadata": {},
   "outputs": [],
   "source": [
    "type(visa_df.dtypes)"
   ]
  },
  {
   "cell_type": "code",
   "execution_count": null,
   "id": "63ab9a0d-3573-4c33-9813-5c455ee8d483",
   "metadata": {},
   "outputs": [],
   "source": [
    "cat_df=pd.DataFrame(cat_list,column=['Categorical_column'])\n",
    "cat_df.to_csv('Categoical_column_df.csv',index=False)"
   ]
  },
  {
   "cell_type": "code",
   "execution_count": 6,
   "id": "a1cd3115-d3f1-42a3-b85f-e3fdbe850dc0",
   "metadata": {},
   "outputs": [
    {
     "ename": "NameError",
     "evalue": "name 'visa_df' is not defined",
     "output_type": "error",
     "traceback": [
      "\u001b[1;31m---------------------------------------------------------------------------\u001b[0m",
      "\u001b[1;31mNameError\u001b[0m                                 Traceback (most recent call last)",
      "Cell \u001b[1;32mIn[6], line 1\u001b[0m\n\u001b[1;32m----> 1\u001b[0m visa_df\u001b[38;5;241m.\u001b[39mdtypes\n",
      "\u001b[1;31mNameError\u001b[0m: name 'visa_df' is not defined"
     ]
    }
   ],
   "source": [
    "visa_df.dtypes"
   ]
  },
  {
   "cell_type": "code",
   "execution_count": null,
   "id": "90b3b292-b355-4e9a-8859-bbf326f4ca0f",
   "metadata": {},
   "outputs": [],
   "source": [
    "visa_df.dtypes"
   ]
  },
  {
   "cell_type": "code",
   "execution_count": null,
   "id": "5eb7f457-b26e-4878-a0bd-c4b024f5fd2b",
   "metadata": {},
   "outputs": [],
   "source": [
    "visa_df.dtypes  "
   ]
  },
  {
   "cell_type": "code",
   "execution_count": null,
   "id": "affb67e9-9b8c-43b3-b616-17b005562dae",
   "metadata": {},
   "outputs": [],
   "source": [
    "dict(visa_df.dtypes).keys()"
   ]
  },
  {
   "cell_type": "code",
   "execution_count": null,
   "id": "fad5616e-dba4-4227-9606-e7a96bf19596",
   "metadata": {},
   "outputs": [],
   "source": [
    "cols,data_types=[],[]\n",
    "for keys,values in dict(visa_df.dtypes).items():\n",
    "    cols,append(keys)\n",
    "    data_types.append(values)\n",
    "\n",
    "pd.DataFrame(zip(cols,data_types),\n",
    "             columns=['Columns','Data type'])"
   ]
  },
  {
   "cell_type": "code",
   "execution_count": null,
   "id": "169245fd-52b8-4882-8702-52a4bb9be527",
   "metadata": {},
   "outputs": [],
   "source": [
    "data_types=visa_df.dtypes\n",
    "dict(data_types)"
   ]
  },
  {
   "cell_type": "code",
   "execution_count": null,
   "id": "bd6d5ecf-aa00-4126-96ce-03683f4634f1",
   "metadata": {},
   "outputs": [],
   "source": [
    "dict1={'Name':['Krishnesi','Krishna Chaitanya','Uttam'],\n",
    "       'Age':[9,5,47]}\n",
    "dict1"
   ]
  },
  {
   "cell_type": "code",
   "execution_count": null,
   "id": "bdbfd327-fc3c-49e8-a0fe-91148ab8fa5b",
   "metadata": {},
   "outputs": [],
   "source": [
    "import pandas as pd"
   ]
  },
  {
   "cell_type": "code",
   "execution_count": null,
   "id": "4216a07a-aeb5-4fc6-9bc8-e65a635b0448",
   "metadata": {},
   "outputs": [],
   "source": [
    "pd.DataFramedict1"
   ]
  },
  {
   "cell_type": "code",
   "execution_count": null,
   "id": "348a4295-f0be-4d83-8aac-b8840243a9cd",
   "metadata": {},
   "outputs": [],
   "source": [
    "d={}\n",
    "d['Columns']=cols\n",
    "d['Data types']=data_types\n",
    "pd.DataFrame(d)"
   ]
  },
  {
   "cell_type": "code",
   "execution_count": null,
   "id": "836e4a9b-df8b-4c2f-bea0-cc6ed0824062",
   "metadata": {},
   "outputs": [],
   "source": [
    "visa_df.select_dtypes(include='object').columns"
   ]
  },
  {
   "cell_type": "code",
   "execution_count": null,
   "id": "db3d8927-a995-4356-bd13-91c41a071e5e",
   "metadata": {},
   "outputs": [],
   "source": [
    "visa_df.dtypes  "
   ]
  },
  {
   "cell_type": "code",
   "execution_count": null,
   "id": "91fb45d6-a5bd-4445-be4a-5280c8b707eb",
   "metadata": {},
   "outputs": [],
   "source": [
    "cols=['continent','case_status']\n",
    "visa_df[cols]"
   ]
  },
  {
   "cell_type": "code",
   "execution_count": null,
   "id": "7900631a-57f2-46b7-9c29-bf6d96621993",
   "metadata": {},
   "outputs": [],
   "source": [
    "visa_df[['continent"
   ]
  },
  {
   "cell_type": "code",
   "execution_count": null,
   "id": "331437b3-2f6a-4915-bfa6-4ccc12ccb028",
   "metadata": {},
   "outputs": [],
   "source": [
    "import pandas as pd"
   ]
  },
  {
   "cell_type": "code",
   "execution_count": null,
   "id": "61dc98b0-bc76-4a20-ab40-394355d18a49",
   "metadata": {},
   "outputs": [],
   "source": [
    "df=pd.DataFrame()\n",
    "df"
   ]
  },
  {
   "cell_type": "code",
   "execution_count": null,
   "id": "17559b83-0224-4ba8-946a-d762e4bd7c2f",
   "metadata": {},
   "outputs": [],
   "source": [
    "path=r\"C:\\Users\\Uddhava\\Downloads\\Visadataset\\Visadataset.csv\"\n",
    "visa_df=pd.read_csv(path)\n",
    "visa_df"
   ]
  },
  {
   "cell_type": "code",
   "execution_count": null,
   "id": "55687a57-02f9-47a1-876a-123b13c6f710",
   "metadata": {},
   "outputs": [],
   "source": []
  },
  {
   "cell_type": "code",
   "execution_count": null,
   "id": "a98c3554-c585-45d9-8cfb-5549c57e4cc2",
   "metadata": {},
   "outputs": [],
   "source": [
    "cols=['continent','case_status']\n",
    "visa_df[cols]"
   ]
  },
  {
   "cell_type": "code",
   "execution_count": null,
   "id": "bf0621d1-5b00-46bc-b8bb-a432e96a8356",
   "metadata": {},
   "outputs": [],
   "source": [
    "visa_df['continent']"
   ]
  },
  {
   "cell_type": "code",
   "execution_count": 5,
   "id": "d2d10579-9d91-4f44-a00d-87d01e41d7c0",
   "metadata": {},
   "outputs": [
    {
     "ename": "NameError",
     "evalue": "name 'visa_df' is not defined",
     "output_type": "error",
     "traceback": [
      "\u001b[1;31m---------------------------------------------------------------------------\u001b[0m",
      "\u001b[1;31mNameError\u001b[0m                                 Traceback (most recent call last)",
      "Cell \u001b[1;32mIn[5], line 1\u001b[0m\n\u001b[1;32m----> 1\u001b[0m visa_df[\u001b[38;5;124m'\u001b[39m\u001b[38;5;124mcontinent\u001b[39m\u001b[38;5;124m'\u001b[39m]\u001b[38;5;241m.\u001b[39munique()\n",
      "\u001b[1;31mNameError\u001b[0m: name 'visa_df' is not defined"
     ]
    }
   ],
   "source": [
    "visa_df['continent'].unique()"
   ]
  },
  {
   "cell_type": "code",
   "execution_count": null,
   "id": "9b7cbde0-4efe-4a6f-8357-2a8029cb2f7c",
   "metadata": {},
   "outputs": [],
   "source": [
    "con=visa_df['continent']=='Asia'\n",
    "len(visa_df[con])"
   ]
  },
  {
   "cell_type": "code",
   "execution_count": null,
   "id": "8dc0c553-694d-43fb-a316-92b4afe73276",
   "metadata": {},
   "outputs": [],
   "source": [
    "con=visa_df['continent']=='Asia'\n",
    "len(visa_df[con])\n"
   ]
  },
  {
   "cell_type": "code",
   "execution_count": null,
   "id": "c8e13f09-94d4-4c91-a201-15b1d999f1c4",
   "metadata": {},
   "outputs": [],
   "source": []
  },
  {
   "cell_type": "code",
   "execution_count": null,
   "id": "777b6786-bd90-4942-9b91-164b425e19cd",
   "metadata": {},
   "outputs": [],
   "source": [
    "con=visa_df['continent']=='Asia'\n",
    "len(visa_df[con])\n",
    "con=visa_df['continent']=='Africa'\n",
    "len(visa_df[con])\n",
    "con=visa_df['continent']=='North America'\n",
    "len(visa_df[con])\n",
    "con=visa_df['continent']=='Europe'\n",
    "len(visa_df[con])\n",
    "con=visa_df['continent']=='South America'\n",
    "len(visa_df[con])\n",
    "con=visa_df['continent']=='Oceania'\n",
    "len(visa_df[con])\n",
    "con=visa_df['continent']=='i'\n",
    "len(visa_df[con])\n"
   ]
  },
  {
   "cell_type": "code",
   "execution_count": null,
   "id": "429359ce-18fa-4098-ac61-a9de583b554f",
   "metadata": {},
   "outputs": [],
   "source": [
    "for i in visa_df[['continent'].unique():\n",
    "con=visa_df['continent']==i\n",
    "count=len(visa_df[con])\n",
    "print(f\"The numbe of applicats from {i} is : {count}\")"
   ]
  },
  {
   "cell_type": "code",
   "execution_count": null,
   "id": "85a2b9a3-614d-410d-b0dd-250a1553c18b",
   "metadata": {},
   "outputs": [],
   "source": []
  },
  {
   "cell_type": "code",
   "execution_count": null,
   "id": "bc80cb45-3002-40e7-af1e-35b2d44319f3",
   "metadata": {},
   "outputs": [],
   "source": [
    "continents=visa_df['continent'].unique()\n",
    "count=()\n",
    "for in in visa_df['continent'].unique():\n",
    "con=visa_df['continent'==i\n",
    "   con=visa_df['coninent']==i\n",
    "   count.append(len(visa_df[con]))\n",
    "\n",
    "cols=['Continents','Number of Applicants']\n",
    "continents_df=pd.DataFrame(zip(continents,count),\n",
    "                           columns=cols)\n",
    "\n",
    "continents_df.to_csv('continents_df.csv',index=False             \n",
    "\n",
    "   \n",
    "   "
   ]
  },
  {
   "cell_type": "code",
   "execution_count": null,
   "id": "eece3b25-64ec-4501-90e1-b29873132291",
   "metadata": {},
   "outputs": [],
   "source": [
    "***Value Counts***"
   ]
  },
  {
   "cell_type": "code",
   "execution_count": null,
   "id": "a75d2651-92d3-40e8-96d3-0378921c8dc8",
   "metadata": {},
   "outputs": [],
   "source": [
    "visa_df['continent'].value_counts()"
   ]
  },
  {
   "cell_type": "code",
   "execution_count": null,
   "id": "0155d8fd-7606-4b4d-b9a8-859ef5d1e091",
   "metadata": {},
   "outputs": [],
   "source": [
    "import pandas as pd"
   ]
  },
  {
   "cell_type": "code",
   "execution_count": null,
   "id": "5df82af5-3a2b-4523-88ad-e05ddd7ae9ea",
   "metadata": {},
   "outputs": [],
   "source": [
    "path=r\"C:\\Users\\Uddhava\\Downloads\\Visadataset\\Visadataset.csv\"\n",
    "visa_df=pd.read_csv(path)\n",
    "visa_df"
   ]
  },
  {
   "cell_type": "code",
   "execution_count": null,
   "id": "a5abe6bb-b1fe-42ba-a5f6-68a7858a9dc4",
   "metadata": {},
   "outputs": [],
   "source": [
    "types=dict(visa_df.dtypes)\n",
    "[key if dict(visa_df.dtypes)[i]=='object', dict(visa_df.dtypes)"
   ]
  },
  {
   "cell_type": "code",
   "execution_count": null,
   "id": "709c13d3-b245-4760-87e2-f4dfa1d4586f",
   "metadata": {},
   "outputs": [],
   "source": [
    "[key if dict(visa_df.dtypes)[i]=='object', dict(visa_df.dtypes)"
   ]
  },
  {
   "cell_type": "code",
   "execution_count": null,
   "id": "dc8c49f2-7474-408d-a3af-893cd55d3cc1",
   "metadata": {},
   "outputs": [],
   "source": [
    "types=dict(visa_df.dtypes)\n",
    "cat_columns=[key for key,value in types.items() if value =='object']"
   ]
  },
  {
   "cell_type": "code",
   "execution_count": null,
   "id": "07cf5f85-5309-4aeb-9531-e18923f9101d",
   "metadata": {},
   "outputs": [],
   "source": [
    "[key if dict(visa_df.dtypes)[i]=='object', dict(visa_df.dtypes)"
   ]
  },
  {
   "cell_type": "code",
   "execution_count": null,
   "id": "9d87fc0a-3fe2-4894-aed7-650931452535",
   "metadata": {},
   "outputs": [],
   "source": [
    "types=dict(visa_df.dtypes)\n",
    "[key if dict(visa_df.dtypes)[i]=='object', dict(visa_df.dtypes)"
   ]
  },
  {
   "cell_type": "code",
   "execution_count": null,
   "id": "93f8afb4-6973-4110-92a5-e51ebfd83a70",
   "metadata": {},
   "outputs": [],
   "source": [
    "cat_columns=[key for key,value in types.items()if value=='object']"
   ]
  },
  {
   "cell_type": "code",
   "execution_count": null,
   "id": "0808f8f8-459f-4800-8030-8f690bd56fd2",
   "metadata": {},
   "outputs": [],
   "source": [
    "import pandas as pd"
   ]
  },
  {
   "cell_type": "code",
   "execution_count": null,
   "id": "d0e86599-425b-4bef-a7ff-c47ae2f7b780",
   "metadata": {},
   "outputs": [],
   "source": [
    "df=pd.DataFrame()\n",
    "df\n"
   ]
  },
  {
   "cell_type": "code",
   "execution_count": null,
   "id": "81c910fd-1e8c-41b3-b065-2a8f8e8da6ed",
   "metadata": {},
   "outputs": [],
   "source": [
    "cat_columns=[key for key,value in types.items()if value=='object']"
   ]
  },
  {
   "cell_type": "code",
   "execution_count": null,
   "id": "6911a86d-e356-450b-829b-96a01296b82c",
   "metadata": {},
   "outputs": [],
   "source": [
    "data_types=visa_df.dtypes\n",
    "dict(data_types)"
   ]
  },
  {
   "cell_type": "code",
   "execution_count": null,
   "id": "44de6430-0018-47b2-a4eb-e535adf4ea45",
   "metadata": {},
   "outputs": [],
   "source": [
    "visa_df.dtypes"
   ]
  },
  {
   "cell_type": "code",
   "execution_count": 10,
   "id": "2d896bd4-9022-45c2-bc54-2b62dfcfb585",
   "metadata": {},
   "outputs": [
    {
     "data": {
      "text/html": [
       "<div>\n",
       "<style scoped>\n",
       "    .dataframe tbody tr th:only-of-type {\n",
       "        vertical-align: middle;\n",
       "    }\n",
       "\n",
       "    .dataframe tbody tr th {\n",
       "        vertical-align: top;\n",
       "    }\n",
       "\n",
       "    .dataframe thead th {\n",
       "        text-align: right;\n",
       "    }\n",
       "</style>\n",
       "<table border=\"1\" class=\"dataframe\">\n",
       "  <thead>\n",
       "    <tr style=\"text-align: right;\">\n",
       "      <th></th>\n",
       "      <th>case_id,continent,education_of_employee,has_job_experience,requires_job_training,no_of_employees,yr_of_estab,region_of_employment,prevailing_wage,unit_of_wage,full_time_position,case_status</th>\n",
       "    </tr>\n",
       "  </thead>\n",
       "  <tbody>\n",
       "    <tr>\n",
       "      <th>0</th>\n",
       "      <td>EZYV01,Asia,High School,N,N,14513,2007,West,59...</td>\n",
       "    </tr>\n",
       "    <tr>\n",
       "      <th>1</th>\n",
       "      <td>EZYV02,Asia,Master's,Y,N,2412,2002,Northeast,8...</td>\n",
       "    </tr>\n",
       "    <tr>\n",
       "      <th>2</th>\n",
       "      <td>EZYV03,Asia,Bachelor's,N,Y,44444,2008,West,122...</td>\n",
       "    </tr>\n",
       "    <tr>\n",
       "      <th>3</th>\n",
       "      <td>EZYV04,Asia,Bachelor's,N,N,98,1897,West,83434....</td>\n",
       "    </tr>\n",
       "    <tr>\n",
       "      <th>4</th>\n",
       "      <td>EZYV05,Africa,Master's,Y,N,1082,2005,South,149...</td>\n",
       "    </tr>\n",
       "    <tr>\n",
       "      <th>...</th>\n",
       "      <td>...</td>\n",
       "    </tr>\n",
       "    <tr>\n",
       "      <th>25475</th>\n",
       "      <td>EZYV25476,Asia,Bachelor's,Y,Y,2601,2008,South,...</td>\n",
       "    </tr>\n",
       "    <tr>\n",
       "      <th>25476</th>\n",
       "      <td>EZYV25477,Asia,High School,Y,N,3274,2006,North...</td>\n",
       "    </tr>\n",
       "    <tr>\n",
       "      <th>25477</th>\n",
       "      <td>EZYV25478,Asia,Master's,Y,N,1121,1910,South,14...</td>\n",
       "    </tr>\n",
       "    <tr>\n",
       "      <th>25478</th>\n",
       "      <td>EZYV25479,Asia,Master's,Y,Y,1918,1887,West,861...</td>\n",
       "    </tr>\n",
       "    <tr>\n",
       "      <th>25479</th>\n",
       "      <td>EZYV25480,Asia,Bachelor's,Y,N,3195,1960,Midwes...</td>\n",
       "    </tr>\n",
       "  </tbody>\n",
       "</table>\n",
       "<p>25480 rows × 1 columns</p>\n",
       "</div>"
      ],
      "text/plain": [
       "      case_id,continent,education_of_employee,has_job_experience,requires_job_training,no_of_employees,yr_of_estab,region_of_employment,prevailing_wage,unit_of_wage,full_time_position,case_status\n",
       "0      EZYV01,Asia,High School,N,N,14513,2007,West,59...                                                                                                                                           \n",
       "1      EZYV02,Asia,Master's,Y,N,2412,2002,Northeast,8...                                                                                                                                           \n",
       "2      EZYV03,Asia,Bachelor's,N,Y,44444,2008,West,122...                                                                                                                                           \n",
       "3      EZYV04,Asia,Bachelor's,N,N,98,1897,West,83434....                                                                                                                                           \n",
       "4      EZYV05,Africa,Master's,Y,N,1082,2005,South,149...                                                                                                                                           \n",
       "...                                                  ...                                                                                                                                           \n",
       "25475  EZYV25476,Asia,Bachelor's,Y,Y,2601,2008,South,...                                                                                                                                           \n",
       "25476  EZYV25477,Asia,High School,Y,N,3274,2006,North...                                                                                                                                           \n",
       "25477  EZYV25478,Asia,Master's,Y,N,1121,1910,South,14...                                                                                                                                           \n",
       "25478  EZYV25479,Asia,Master's,Y,Y,1918,1887,West,861...                                                                                                                                           \n",
       "25479  EZYV25480,Asia,Bachelor's,Y,N,3195,1960,Midwes...                                                                                                                                           \n",
       "\n",
       "[25480 rows x 1 columns]"
      ]
     },
     "execution_count": 10,
     "metadata": {},
     "output_type": "execute_result"
    }
   ],
   "source": [
    "data = pd.read_csv(r\"C:\\Users\\Uddhava\\Documents\\Visadataset.csv\", sep = ';')\n",
    "data"
   ]
  },
  {
   "cell_type": "code",
   "execution_count": 14,
   "id": "2ad8b68b-2e9d-4a74-9564-4ec2114702af",
   "metadata": {},
   "outputs": [
    {
     "ename": "KeyError",
     "evalue": "'continent'",
     "output_type": "error",
     "traceback": [
      "\u001b[1;31m---------------------------------------------------------------------------\u001b[0m",
      "\u001b[1;31mKeyError\u001b[0m                                  Traceback (most recent call last)",
      "File \u001b[1;32m~\\anaconda3\\Lib\\site-packages\\pandas\\core\\indexes\\base.py:3791\u001b[0m, in \u001b[0;36mIndex.get_loc\u001b[1;34m(self, key)\u001b[0m\n\u001b[0;32m   3790\u001b[0m \u001b[38;5;28;01mtry\u001b[39;00m:\n\u001b[1;32m-> 3791\u001b[0m     \u001b[38;5;28;01mreturn\u001b[39;00m \u001b[38;5;28mself\u001b[39m\u001b[38;5;241m.\u001b[39m_engine\u001b[38;5;241m.\u001b[39mget_loc(casted_key)\n\u001b[0;32m   3792\u001b[0m \u001b[38;5;28;01mexcept\u001b[39;00m \u001b[38;5;167;01mKeyError\u001b[39;00m \u001b[38;5;28;01mas\u001b[39;00m err:\n",
      "File \u001b[1;32mindex.pyx:152\u001b[0m, in \u001b[0;36mpandas._libs.index.IndexEngine.get_loc\u001b[1;34m()\u001b[0m\n",
      "File \u001b[1;32mindex.pyx:181\u001b[0m, in \u001b[0;36mpandas._libs.index.IndexEngine.get_loc\u001b[1;34m()\u001b[0m\n",
      "File \u001b[1;32mpandas\\_libs\\hashtable_class_helper.pxi:7080\u001b[0m, in \u001b[0;36mpandas._libs.hashtable.PyObjectHashTable.get_item\u001b[1;34m()\u001b[0m\n",
      "File \u001b[1;32mpandas\\_libs\\hashtable_class_helper.pxi:7088\u001b[0m, in \u001b[0;36mpandas._libs.hashtable.PyObjectHashTable.get_item\u001b[1;34m()\u001b[0m\n",
      "\u001b[1;31mKeyError\u001b[0m: 'continent'",
      "\nThe above exception was the direct cause of the following exception:\n",
      "\u001b[1;31mKeyError\u001b[0m                                  Traceback (most recent call last)",
      "Cell \u001b[1;32mIn[14], line 1\u001b[0m\n\u001b[1;32m----> 1\u001b[0m data[\u001b[38;5;124m'\u001b[39m\u001b[38;5;124mcontinent\u001b[39m\u001b[38;5;124m'\u001b[39m]\u001b[38;5;241m.\u001b[39munique()\n",
      "File \u001b[1;32m~\\anaconda3\\Lib\\site-packages\\pandas\\core\\frame.py:3893\u001b[0m, in \u001b[0;36mDataFrame.__getitem__\u001b[1;34m(self, key)\u001b[0m\n\u001b[0;32m   3891\u001b[0m \u001b[38;5;28;01mif\u001b[39;00m \u001b[38;5;28mself\u001b[39m\u001b[38;5;241m.\u001b[39mcolumns\u001b[38;5;241m.\u001b[39mnlevels \u001b[38;5;241m>\u001b[39m \u001b[38;5;241m1\u001b[39m:\n\u001b[0;32m   3892\u001b[0m     \u001b[38;5;28;01mreturn\u001b[39;00m \u001b[38;5;28mself\u001b[39m\u001b[38;5;241m.\u001b[39m_getitem_multilevel(key)\n\u001b[1;32m-> 3893\u001b[0m indexer \u001b[38;5;241m=\u001b[39m \u001b[38;5;28mself\u001b[39m\u001b[38;5;241m.\u001b[39mcolumns\u001b[38;5;241m.\u001b[39mget_loc(key)\n\u001b[0;32m   3894\u001b[0m \u001b[38;5;28;01mif\u001b[39;00m is_integer(indexer):\n\u001b[0;32m   3895\u001b[0m     indexer \u001b[38;5;241m=\u001b[39m [indexer]\n",
      "File \u001b[1;32m~\\anaconda3\\Lib\\site-packages\\pandas\\core\\indexes\\base.py:3798\u001b[0m, in \u001b[0;36mIndex.get_loc\u001b[1;34m(self, key)\u001b[0m\n\u001b[0;32m   3793\u001b[0m     \u001b[38;5;28;01mif\u001b[39;00m \u001b[38;5;28misinstance\u001b[39m(casted_key, \u001b[38;5;28mslice\u001b[39m) \u001b[38;5;129;01mor\u001b[39;00m (\n\u001b[0;32m   3794\u001b[0m         \u001b[38;5;28misinstance\u001b[39m(casted_key, abc\u001b[38;5;241m.\u001b[39mIterable)\n\u001b[0;32m   3795\u001b[0m         \u001b[38;5;129;01mand\u001b[39;00m \u001b[38;5;28many\u001b[39m(\u001b[38;5;28misinstance\u001b[39m(x, \u001b[38;5;28mslice\u001b[39m) \u001b[38;5;28;01mfor\u001b[39;00m x \u001b[38;5;129;01min\u001b[39;00m casted_key)\n\u001b[0;32m   3796\u001b[0m     ):\n\u001b[0;32m   3797\u001b[0m         \u001b[38;5;28;01mraise\u001b[39;00m InvalidIndexError(key)\n\u001b[1;32m-> 3798\u001b[0m     \u001b[38;5;28;01mraise\u001b[39;00m \u001b[38;5;167;01mKeyError\u001b[39;00m(key) \u001b[38;5;28;01mfrom\u001b[39;00m \u001b[38;5;21;01merr\u001b[39;00m\n\u001b[0;32m   3799\u001b[0m \u001b[38;5;28;01mexcept\u001b[39;00m \u001b[38;5;167;01mTypeError\u001b[39;00m:\n\u001b[0;32m   3800\u001b[0m     \u001b[38;5;66;03m# If we have a listlike key, _check_indexing_error will raise\u001b[39;00m\n\u001b[0;32m   3801\u001b[0m     \u001b[38;5;66;03m#  InvalidIndexError. Otherwise we fall through and re-raise\u001b[39;00m\n\u001b[0;32m   3802\u001b[0m     \u001b[38;5;66;03m#  the TypeError.\u001b[39;00m\n\u001b[0;32m   3803\u001b[0m     \u001b[38;5;28mself\u001b[39m\u001b[38;5;241m.\u001b[39m_check_indexing_error(key)\n",
      "\u001b[1;31mKeyError\u001b[0m: 'continent'"
     ]
    }
   ],
   "source": [
    "data['continent'].unique()"
   ]
  },
  {
   "cell_type": "code",
   "execution_count": null,
   "id": "d42136e6-9e5d-4d91-8f15-741030732657",
   "metadata": {},
   "outputs": [],
   "source": [
    "['Asia', 'Europe', 'Asia', 'Africa', 'Europe', 'Oceania']\n"
   ]
  },
  {
   "cell_type": "code",
   "execution_count": null,
   "id": "68a5a870-204d-4db1-9462-d258350e6f07",
   "metadata": {},
   "outputs": [],
   "source": [
    "array(['Asia', 'Europe', 'Africa', 'Oceania'], dtype=object)\n"
   ]
  }
 ],
 "metadata": {
  "kernelspec": {
   "display_name": "Python 3 (ipykernel)",
   "language": "python",
   "name": "python3"
  },
  "language_info": {
   "codemirror_mode": {
    "name": "ipython",
    "version": 3
   },
   "file_extension": ".py",
   "mimetype": "text/x-python",
   "name": "python",
   "nbconvert_exporter": "python",
   "pygments_lexer": "ipython3",
   "version": "3.11.7"
  }
 },
 "nbformat": 4,
 "nbformat_minor": 5
}
